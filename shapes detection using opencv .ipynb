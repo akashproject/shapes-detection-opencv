{
 "cells": [
  {
   "cell_type": "code",
   "execution_count": 2,
   "metadata": {},
   "outputs": [],
   "source": [
    "import cv2\n"
   ]
  },
  {
   "cell_type": "code",
   "execution_count": 3,
   "metadata": {},
   "outputs": [],
   "source": [
    "img=cv2.imread(\"shapes1.jpg\")\n",
    "imgcontour=img.copy()\n",
    "imggray=cv2.cvtColor(img,cv2.COLOR_BGR2GRAY)\n",
    "imgblur=cv2.GaussianBlur(imggray,(7,7),1)\n",
    "def getcontours(img):\n",
    "    contours,hierarchy=cv2.findContours(img,cv2.RETR_EXTERNAL,cv2.CHAIN_APPROX_NONE)\n",
    "    for cnt in contours:\n",
    "        area=cv2.contourArea(cnt)\n",
    "        print(area)\n",
    "        if area>500:\n",
    "            cv2.drawContours(imgcontour,cnt,-1,(255,0,0),2)\n",
    "            peri=cv2.arcLength(cnt,True)\n",
    "            #print(peri)\n",
    "            approx=cv2.approxPolyDP(cnt,0.02*peri,True)\n",
    "            print(len(approx))\n",
    "            objcor=len(approx)\n",
    "            x,y,w,h=cv2.boundingRect(approx)\n",
    "            if objcor==3:\n",
    "                objecttype=\"tri\"\n",
    "            elif objcor==4:\n",
    "                aspratio=w/float(h)\n",
    "                if aspratio>0.95 and aspratio<1.05:\n",
    "                    objecttype=\"square\"\n",
    "                else:\n",
    "                    objecttype=\"rectangle\"\n",
    "            elif objcor>4:\n",
    "                \n",
    "                    objecttype=\"circle\"\n",
    "            cv2.rectangle(imgcontour,(x,y),(x+w,y+h),(0,255,0),2)\n",
    "            cv2.putText(imgcontour,objecttype,(x+(w//2)-10,y+(h//2)-10),cv2.FONT_HERSHEY_COMPLEX,0.5,(0,0,0),2)"
   ]
  },
  {
   "cell_type": "code",
   "execution_count": null,
   "metadata": {},
   "outputs": [
    {
     "name": "stdout",
     "output_type": "stream",
     "text": [
      "8664.0\n",
      "8\n",
      "18141.0\n",
      "4\n",
      "5581.0\n",
      "3\n",
      "14505.0\n",
      "4\n"
     ]
    }
   ],
   "source": [
    "imgcanny=cv2.Canny(imgblur,50,50)\n",
    "getcontours(imgcanny)\n",
    "cv2.imshow(\"original image\",img)\n",
    "cv2.imshow(\"canny\",imgcanny)\n",
    "cv2.imshow(\"blur\",imgblur)\n",
    "cv2.imshow(\"contour image\",imgcontour)\n",
    "cv2.waitKey(0)\n"
   ]
  },
  {
   "cell_type": "code",
   "execution_count": null,
   "metadata": {},
   "outputs": [],
   "source": []
  },
  {
   "cell_type": "code",
   "execution_count": null,
   "metadata": {},
   "outputs": [],
   "source": []
  }
 ],
 "metadata": {
  "kernelspec": {
   "display_name": "Python 3",
   "language": "python",
   "name": "python3"
  },
  "language_info": {
   "codemirror_mode": {
    "name": "ipython",
    "version": 3
   },
   "file_extension": ".py",
   "mimetype": "text/x-python",
   "name": "python",
   "nbconvert_exporter": "python",
   "pygments_lexer": "ipython3",
   "version": "3.7.6"
  }
 },
 "nbformat": 4,
 "nbformat_minor": 4
}
